{
  "nbformat": 4,
  "nbformat_minor": 0,
  "metadata": {
    "kernelspec": {
      "display_name": "Python 3",
      "language": "python",
      "name": "python3"
    },
    "language_info": {
      "codemirror_mode": {
        "name": "ipython",
        "version": 3
      },
      "file_extension": ".py",
      "mimetype": "text/x-python",
      "name": "python",
      "nbconvert_exporter": "python",
      "pygments_lexer": "ipython3",
      "version": "3.7.6"
    },
    "toc": {
      "base_numbering": 1,
      "nav_menu": {},
      "number_sections": true,
      "sideBar": true,
      "skip_h1_title": false,
      "title_cell": "Table of Contents",
      "title_sidebar": "Contents",
      "toc_cell": false,
      "toc_position": {
        "height": "calc(100% - 180px)",
        "left": "10px",
        "top": "150px",
        "width": "165px"
      },
      "toc_section_display": true,
      "toc_window_display": true
    },
    "varInspector": {
      "cols": {
        "lenName": 16,
        "lenType": 16,
        "lenVar": 40
      },
      "kernels_config": {
        "python": {
          "delete_cmd_postfix": "",
          "delete_cmd_prefix": "del ",
          "library": "var_list.py",
          "varRefreshCmd": "print(var_dic_list())"
        },
        "r": {
          "delete_cmd_postfix": ") ",
          "delete_cmd_prefix": "rm(",
          "library": "var_list.r",
          "varRefreshCmd": "cat(var_dic_list()) "
        }
      },
      "types_to_exclude": [
        "module",
        "function",
        "builtin_function_or_method",
        "instance",
        "_Feature"
      ],
      "window_display": false
    },
    "colab": {
      "name": "Stacking_예시",
      "provenance": [],
      "collapsed_sections": [],
      "toc_visible": true,
      "include_colab_link": true
    }
  },
  "cells": [
    {
      "cell_type": "markdown",
      "metadata": {
        "id": "view-in-github",
        "colab_type": "text"
      },
      "source": [
        "<a href=\"https://colab.research.google.com/github/jaesanglee95/ESC-20SUMMER/blob/master/code/Modeling/Stacking_%EC%98%88%EC%8B%9C.ipynb\" target=\"_parent\"><img src=\"https://colab.research.google.com/assets/colab-badge.svg\" alt=\"Open In Colab\"/></a>"
      ]
    },
    {
      "cell_type": "markdown",
      "metadata": {
        "id": "VwZhh1gBMUNW",
        "colab_type": "text"
      },
      "source": [
        "# 데이터 준비"
      ]
    },
    {
      "cell_type": "code",
      "metadata": {
        "id": "acAv1NhluAR3",
        "colab_type": "code",
        "colab": {}
      },
      "source": [
        "import pandas as pd\n",
        "import numpy as np"
      ],
      "execution_count": 1,
      "outputs": []
    },
    {
      "cell_type": "code",
      "metadata": {
        "id": "8JwBlEfhuAR6",
        "colab_type": "code",
        "colab": {
          "base_uri": "https://localhost:8080/",
          "height": 35
        },
        "outputId": "aae8c635-a6e3-43c9-f0d3-370a6b294c3f"
      },
      "source": [
        "NS = pd.read_csv(\"NS_2019_m.csv\", encoding= 'cp949')\n",
        "NS.shape"
      ],
      "execution_count": 2,
      "outputs": [
        {
          "output_type": "execute_result",
          "data": {
            "text/plain": [
              "(38300, 34)"
            ]
          },
          "metadata": {
            "tags": []
          },
          "execution_count": 2
        }
      ]
    },
    {
      "cell_type": "code",
      "metadata": {
        "id": "QM9UTiX_uAR-",
        "colab_type": "code",
        "colab": {
          "base_uri": "https://localhost:8080/",
          "height": 647
        },
        "outputId": "7c207d7a-a32d-489e-ebd6-5f74c8f17123"
      },
      "source": [
        "# NA 처리(카테고리 : 무형)\n",
        "NS.isnull().sum()"
      ],
      "execution_count": 3,
      "outputs": [
        {
          "output_type": "execute_result",
          "data": {
            "text/plain": [
              "date             0\n",
              "product          0\n",
              "add            932\n",
              "rain             0\n",
              "cloud            0\n",
              "temp             0\n",
              "ymd              0\n",
              "wday             0\n",
              "hour             0\n",
              "primetime        0\n",
              "FlowSubway       0\n",
              "FlowCar          0\n",
              "duration         0\n",
              "m_code           0\n",
              "p_code           0\n",
              "category         0\n",
              "price            0\n",
              "total          932\n",
              "Y              932\n",
              "sale_m         932\n",
              "hms              0\n",
              "month            0\n",
              "day              0\n",
              "holiday          0\n",
              "org_time         0\n",
              "stop             0\n",
              "order            0\n",
              "max_order        0\n",
              "before           0\n",
              "CPI            932\n",
              "Shop_Online    932\n",
              "first            0\n",
              "second           0\n",
              "third            6\n",
              "dtype: int64"
            ]
          },
          "metadata": {
            "tags": []
          },
          "execution_count": 3
        }
      ]
    },
    {
      "cell_type": "code",
      "metadata": {
        "id": "Axf4jZUXuASA",
        "colab_type": "code",
        "colab": {
          "base_uri": "https://localhost:8080/",
          "height": 949
        },
        "outputId": "1ebf0094-f6c8-48d5-d232-5996db24787c"
      },
      "source": [
        "NS[NS['Y'].isnull()]"
      ],
      "execution_count": 4,
      "outputs": [
        {
          "output_type": "execute_result",
          "data": {
            "text/html": [
              "<div>\n",
              "<style scoped>\n",
              "    .dataframe tbody tr th:only-of-type {\n",
              "        vertical-align: middle;\n",
              "    }\n",
              "\n",
              "    .dataframe tbody tr th {\n",
              "        vertical-align: top;\n",
              "    }\n",
              "\n",
              "    .dataframe thead th {\n",
              "        text-align: right;\n",
              "    }\n",
              "</style>\n",
              "<table border=\"1\" class=\"dataframe\">\n",
              "  <thead>\n",
              "    <tr style=\"text-align: right;\">\n",
              "      <th></th>\n",
              "      <th>date</th>\n",
              "      <th>product</th>\n",
              "      <th>add</th>\n",
              "      <th>rain</th>\n",
              "      <th>cloud</th>\n",
              "      <th>temp</th>\n",
              "      <th>ymd</th>\n",
              "      <th>wday</th>\n",
              "      <th>hour</th>\n",
              "      <th>primetime</th>\n",
              "      <th>FlowSubway</th>\n",
              "      <th>FlowCar</th>\n",
              "      <th>duration</th>\n",
              "      <th>m_code</th>\n",
              "      <th>p_code</th>\n",
              "      <th>category</th>\n",
              "      <th>price</th>\n",
              "      <th>total</th>\n",
              "      <th>Y</th>\n",
              "      <th>sale_m</th>\n",
              "      <th>hms</th>\n",
              "      <th>month</th>\n",
              "      <th>day</th>\n",
              "      <th>holiday</th>\n",
              "      <th>org_time</th>\n",
              "      <th>stop</th>\n",
              "      <th>order</th>\n",
              "      <th>max_order</th>\n",
              "      <th>before</th>\n",
              "      <th>CPI</th>\n",
              "      <th>Shop_Online</th>\n",
              "      <th>first</th>\n",
              "      <th>second</th>\n",
              "      <th>third</th>\n",
              "    </tr>\n",
              "  </thead>\n",
              "  <tbody>\n",
              "    <tr>\n",
              "      <th>2318</th>\n",
              "      <td>2019-01-25 19:00:00</td>\n",
              "      <td>TCOM_처브치아보험</td>\n",
              "      <td>NaN</td>\n",
              "      <td>1.3</td>\n",
              "      <td>2</td>\n",
              "      <td>0.381818</td>\n",
              "      <td>2019-01-25</td>\n",
              "      <td>6</td>\n",
              "      <td>19</td>\n",
              "      <td>0</td>\n",
              "      <td>891681</td>\n",
              "      <td>528387</td>\n",
              "      <td>60.0</td>\n",
              "      <td>100507.0</td>\n",
              "      <td>201567.0</td>\n",
              "      <td>무형</td>\n",
              "      <td>0.0</td>\n",
              "      <td>NaN</td>\n",
              "      <td>NaN</td>\n",
              "      <td>NaN</td>\n",
              "      <td>19H 0M 0S</td>\n",
              "      <td>1</td>\n",
              "      <td>25</td>\n",
              "      <td>0</td>\n",
              "      <td>60.0</td>\n",
              "      <td>0</td>\n",
              "      <td>1</td>\n",
              "      <td>1</td>\n",
              "      <td>농수축</td>\n",
              "      <td>NaN</td>\n",
              "      <td>NaN</td>\n",
              "      <td>5</td>\n",
              "      <td>0</td>\n",
              "      <td>7.0</td>\n",
              "    </tr>\n",
              "    <tr>\n",
              "      <th>2845</th>\n",
              "      <td>2019-01-31 18:00:00</td>\n",
              "      <td>TCOM_처브치아보험</td>\n",
              "      <td>NaN</td>\n",
              "      <td>67.4</td>\n",
              "      <td>3</td>\n",
              "      <td>0.418182</td>\n",
              "      <td>2019-01-31</td>\n",
              "      <td>5</td>\n",
              "      <td>18</td>\n",
              "      <td>0</td>\n",
              "      <td>1132635</td>\n",
              "      <td>555306</td>\n",
              "      <td>60.0</td>\n",
              "      <td>100507.0</td>\n",
              "      <td>201567.0</td>\n",
              "      <td>무형</td>\n",
              "      <td>0.0</td>\n",
              "      <td>NaN</td>\n",
              "      <td>NaN</td>\n",
              "      <td>NaN</td>\n",
              "      <td>18H 0M 0S</td>\n",
              "      <td>1</td>\n",
              "      <td>31</td>\n",
              "      <td>0</td>\n",
              "      <td>60.0</td>\n",
              "      <td>0</td>\n",
              "      <td>1</td>\n",
              "      <td>1</td>\n",
              "      <td>농수축</td>\n",
              "      <td>NaN</td>\n",
              "      <td>NaN</td>\n",
              "      <td>5</td>\n",
              "      <td>0</td>\n",
              "      <td>7.0</td>\n",
              "    </tr>\n",
              "    <tr>\n",
              "      <th>3332</th>\n",
              "      <td>2019-02-05 18:00:00</td>\n",
              "      <td>TCOM_처브치아보험</td>\n",
              "      <td>NaN</td>\n",
              "      <td>0.0</td>\n",
              "      <td>2</td>\n",
              "      <td>4.372727</td>\n",
              "      <td>2019-02-05</td>\n",
              "      <td>3</td>\n",
              "      <td>18</td>\n",
              "      <td>0</td>\n",
              "      <td>252326</td>\n",
              "      <td>470461</td>\n",
              "      <td>60.0</td>\n",
              "      <td>100507.0</td>\n",
              "      <td>201567.0</td>\n",
              "      <td>무형</td>\n",
              "      <td>0.0</td>\n",
              "      <td>NaN</td>\n",
              "      <td>NaN</td>\n",
              "      <td>NaN</td>\n",
              "      <td>18H 0M 0S</td>\n",
              "      <td>2</td>\n",
              "      <td>5</td>\n",
              "      <td>1</td>\n",
              "      <td>60.0</td>\n",
              "      <td>0</td>\n",
              "      <td>1</td>\n",
              "      <td>1</td>\n",
              "      <td>이미용</td>\n",
              "      <td>NaN</td>\n",
              "      <td>NaN</td>\n",
              "      <td>5</td>\n",
              "      <td>0</td>\n",
              "      <td>7.0</td>\n",
              "    </tr>\n",
              "    <tr>\n",
              "      <th>6570</th>\n",
              "      <td>2019-03-09 00:00:00</td>\n",
              "      <td>온라인투어 동남아 나트랑/빈펄랜드 (190309)</td>\n",
              "      <td>NaN</td>\n",
              "      <td>0.0</td>\n",
              "      <td>1</td>\n",
              "      <td>7.027273</td>\n",
              "      <td>2019-03-08</td>\n",
              "      <td>6</td>\n",
              "      <td>24</td>\n",
              "      <td>0</td>\n",
              "      <td>119887</td>\n",
              "      <td>282308</td>\n",
              "      <td>20.0</td>\n",
              "      <td>100324.0</td>\n",
              "      <td>201095.0</td>\n",
              "      <td>무형</td>\n",
              "      <td>0.0</td>\n",
              "      <td>NaN</td>\n",
              "      <td>NaN</td>\n",
              "      <td>NaN</td>\n",
              "      <td>0S</td>\n",
              "      <td>3</td>\n",
              "      <td>8</td>\n",
              "      <td>0</td>\n",
              "      <td>20.0</td>\n",
              "      <td>0</td>\n",
              "      <td>1</td>\n",
              "      <td>3</td>\n",
              "      <td>속옷</td>\n",
              "      <td>NaN</td>\n",
              "      <td>NaN</td>\n",
              "      <td>3</td>\n",
              "      <td>2</td>\n",
              "      <td>4.0</td>\n",
              "    </tr>\n",
              "    <tr>\n",
              "      <th>6571</th>\n",
              "      <td>2019-03-09 00:20:00</td>\n",
              "      <td>온라인투어 동남아 나트랑/빈펄랜드 (190309)</td>\n",
              "      <td>NaN</td>\n",
              "      <td>0.0</td>\n",
              "      <td>1</td>\n",
              "      <td>7.027273</td>\n",
              "      <td>2019-03-08</td>\n",
              "      <td>6</td>\n",
              "      <td>24</td>\n",
              "      <td>0</td>\n",
              "      <td>119887</td>\n",
              "      <td>282308</td>\n",
              "      <td>20.0</td>\n",
              "      <td>100324.0</td>\n",
              "      <td>201095.0</td>\n",
              "      <td>무형</td>\n",
              "      <td>0.0</td>\n",
              "      <td>NaN</td>\n",
              "      <td>NaN</td>\n",
              "      <td>NaN</td>\n",
              "      <td>20M 0S</td>\n",
              "      <td>3</td>\n",
              "      <td>8</td>\n",
              "      <td>0</td>\n",
              "      <td>20.0</td>\n",
              "      <td>0</td>\n",
              "      <td>2</td>\n",
              "      <td>3</td>\n",
              "      <td>속옷</td>\n",
              "      <td>NaN</td>\n",
              "      <td>NaN</td>\n",
              "      <td>3</td>\n",
              "      <td>2</td>\n",
              "      <td>4.0</td>\n",
              "    </tr>\n",
              "    <tr>\n",
              "      <th>...</th>\n",
              "      <td>...</td>\n",
              "      <td>...</td>\n",
              "      <td>...</td>\n",
              "      <td>...</td>\n",
              "      <td>...</td>\n",
              "      <td>...</td>\n",
              "      <td>...</td>\n",
              "      <td>...</td>\n",
              "      <td>...</td>\n",
              "      <td>...</td>\n",
              "      <td>...</td>\n",
              "      <td>...</td>\n",
              "      <td>...</td>\n",
              "      <td>...</td>\n",
              "      <td>...</td>\n",
              "      <td>...</td>\n",
              "      <td>...</td>\n",
              "      <td>...</td>\n",
              "      <td>...</td>\n",
              "      <td>...</td>\n",
              "      <td>...</td>\n",
              "      <td>...</td>\n",
              "      <td>...</td>\n",
              "      <td>...</td>\n",
              "      <td>...</td>\n",
              "      <td>...</td>\n",
              "      <td>...</td>\n",
              "      <td>...</td>\n",
              "      <td>...</td>\n",
              "      <td>...</td>\n",
              "      <td>...</td>\n",
              "      <td>...</td>\n",
              "      <td>...</td>\n",
              "      <td>...</td>\n",
              "    </tr>\n",
              "    <tr>\n",
              "      <th>38179</th>\n",
              "      <td>2019-12-30 18:20:00</td>\n",
              "      <td>삼성화재 천만안심 건강보험(암보험, 1907)</td>\n",
              "      <td>NaN</td>\n",
              "      <td>6.8</td>\n",
              "      <td>3</td>\n",
              "      <td>5.472727</td>\n",
              "      <td>2019-12-30</td>\n",
              "      <td>2</td>\n",
              "      <td>18</td>\n",
              "      <td>1</td>\n",
              "      <td>1105329</td>\n",
              "      <td>545777</td>\n",
              "      <td>60.0</td>\n",
              "      <td>100072.0</td>\n",
              "      <td>200194.0</td>\n",
              "      <td>무형</td>\n",
              "      <td>0.0</td>\n",
              "      <td>NaN</td>\n",
              "      <td>NaN</td>\n",
              "      <td>NaN</td>\n",
              "      <td>18H 20M 0S</td>\n",
              "      <td>12</td>\n",
              "      <td>30</td>\n",
              "      <td>0</td>\n",
              "      <td>60.0</td>\n",
              "      <td>0</td>\n",
              "      <td>1</td>\n",
              "      <td>1</td>\n",
              "      <td>농수축</td>\n",
              "      <td>NaN</td>\n",
              "      <td>NaN</td>\n",
              "      <td>0</td>\n",
              "      <td>7</td>\n",
              "      <td>2.0</td>\n",
              "    </tr>\n",
              "    <tr>\n",
              "      <th>38243</th>\n",
              "      <td>2019-12-31 13:20:00</td>\n",
              "      <td>삼성화재 천만안심 건강보험(암보험, 1907)</td>\n",
              "      <td>NaN</td>\n",
              "      <td>0.0</td>\n",
              "      <td>1</td>\n",
              "      <td>-3.763636</td>\n",
              "      <td>2019-12-31</td>\n",
              "      <td>3</td>\n",
              "      <td>13</td>\n",
              "      <td>0</td>\n",
              "      <td>503568</td>\n",
              "      <td>530322</td>\n",
              "      <td>60.0</td>\n",
              "      <td>100072.0</td>\n",
              "      <td>200194.0</td>\n",
              "      <td>무형</td>\n",
              "      <td>0.0</td>\n",
              "      <td>NaN</td>\n",
              "      <td>NaN</td>\n",
              "      <td>NaN</td>\n",
              "      <td>13H 20M 0S</td>\n",
              "      <td>12</td>\n",
              "      <td>31</td>\n",
              "      <td>0</td>\n",
              "      <td>60.0</td>\n",
              "      <td>0</td>\n",
              "      <td>1</td>\n",
              "      <td>1</td>\n",
              "      <td>주방</td>\n",
              "      <td>NaN</td>\n",
              "      <td>NaN</td>\n",
              "      <td>0</td>\n",
              "      <td>7</td>\n",
              "      <td>2.0</td>\n",
              "    </tr>\n",
              "    <tr>\n",
              "      <th>38289</th>\n",
              "      <td>2019-12-31 22:20:00</td>\n",
              "      <td>넥센타이어 렌탈서비스</td>\n",
              "      <td>NaN</td>\n",
              "      <td>0.0</td>\n",
              "      <td>1</td>\n",
              "      <td>-3.763636</td>\n",
              "      <td>2019-12-31</td>\n",
              "      <td>3</td>\n",
              "      <td>22</td>\n",
              "      <td>0</td>\n",
              "      <td>394194</td>\n",
              "      <td>404472</td>\n",
              "      <td>20.0</td>\n",
              "      <td>100543.0</td>\n",
              "      <td>201624.0</td>\n",
              "      <td>무형</td>\n",
              "      <td>0.0</td>\n",
              "      <td>NaN</td>\n",
              "      <td>NaN</td>\n",
              "      <td>NaN</td>\n",
              "      <td>22H 20M 0S</td>\n",
              "      <td>12</td>\n",
              "      <td>31</td>\n",
              "      <td>0</td>\n",
              "      <td>20.0</td>\n",
              "      <td>0</td>\n",
              "      <td>1</td>\n",
              "      <td>3</td>\n",
              "      <td>가전</td>\n",
              "      <td>NaN</td>\n",
              "      <td>NaN</td>\n",
              "      <td>5</td>\n",
              "      <td>4</td>\n",
              "      <td>3.0</td>\n",
              "    </tr>\n",
              "    <tr>\n",
              "      <th>38290</th>\n",
              "      <td>2019-12-31 22:40:00</td>\n",
              "      <td>넥센타이어 렌탈서비스</td>\n",
              "      <td>NaN</td>\n",
              "      <td>0.0</td>\n",
              "      <td>1</td>\n",
              "      <td>-3.763636</td>\n",
              "      <td>2019-12-31</td>\n",
              "      <td>3</td>\n",
              "      <td>22</td>\n",
              "      <td>0</td>\n",
              "      <td>394194</td>\n",
              "      <td>404472</td>\n",
              "      <td>20.0</td>\n",
              "      <td>100543.0</td>\n",
              "      <td>201624.0</td>\n",
              "      <td>무형</td>\n",
              "      <td>0.0</td>\n",
              "      <td>NaN</td>\n",
              "      <td>NaN</td>\n",
              "      <td>NaN</td>\n",
              "      <td>22H 40M 0S</td>\n",
              "      <td>12</td>\n",
              "      <td>31</td>\n",
              "      <td>0</td>\n",
              "      <td>20.0</td>\n",
              "      <td>0</td>\n",
              "      <td>2</td>\n",
              "      <td>3</td>\n",
              "      <td>가전</td>\n",
              "      <td>NaN</td>\n",
              "      <td>NaN</td>\n",
              "      <td>5</td>\n",
              "      <td>4</td>\n",
              "      <td>3.0</td>\n",
              "    </tr>\n",
              "    <tr>\n",
              "      <th>38291</th>\n",
              "      <td>2019-12-31 23:00:00</td>\n",
              "      <td>넥센타이어 렌탈서비스</td>\n",
              "      <td>NaN</td>\n",
              "      <td>0.0</td>\n",
              "      <td>1</td>\n",
              "      <td>-3.763636</td>\n",
              "      <td>2019-12-31</td>\n",
              "      <td>3</td>\n",
              "      <td>23</td>\n",
              "      <td>0</td>\n",
              "      <td>229730</td>\n",
              "      <td>295690</td>\n",
              "      <td>20.0</td>\n",
              "      <td>100543.0</td>\n",
              "      <td>201624.0</td>\n",
              "      <td>무형</td>\n",
              "      <td>0.0</td>\n",
              "      <td>NaN</td>\n",
              "      <td>NaN</td>\n",
              "      <td>NaN</td>\n",
              "      <td>23H 0M 0S</td>\n",
              "      <td>12</td>\n",
              "      <td>31</td>\n",
              "      <td>0</td>\n",
              "      <td>20.0</td>\n",
              "      <td>0</td>\n",
              "      <td>3</td>\n",
              "      <td>3</td>\n",
              "      <td>가전</td>\n",
              "      <td>NaN</td>\n",
              "      <td>NaN</td>\n",
              "      <td>5</td>\n",
              "      <td>4</td>\n",
              "      <td>3.0</td>\n",
              "    </tr>\n",
              "  </tbody>\n",
              "</table>\n",
              "<p>932 rows × 34 columns</p>\n",
              "</div>"
            ],
            "text/plain": [
              "                      date                      product  ... second  third\n",
              "2318   2019-01-25 19:00:00                  TCOM_처브치아보험  ...      0    7.0\n",
              "2845   2019-01-31 18:00:00                  TCOM_처브치아보험  ...      0    7.0\n",
              "3332   2019-02-05 18:00:00                  TCOM_처브치아보험  ...      0    7.0\n",
              "6570   2019-03-09 00:00:00  온라인투어 동남아 나트랑/빈펄랜드 (190309)  ...      2    4.0\n",
              "6571   2019-03-09 00:20:00  온라인투어 동남아 나트랑/빈펄랜드 (190309)  ...      2    4.0\n",
              "...                    ...                          ...  ...    ...    ...\n",
              "38179  2019-12-30 18:20:00    삼성화재 천만안심 건강보험(암보험, 1907)  ...      7    2.0\n",
              "38243  2019-12-31 13:20:00    삼성화재 천만안심 건강보험(암보험, 1907)  ...      7    2.0\n",
              "38289  2019-12-31 22:20:00                  넥센타이어 렌탈서비스  ...      4    3.0\n",
              "38290  2019-12-31 22:40:00                  넥센타이어 렌탈서비스  ...      4    3.0\n",
              "38291  2019-12-31 23:00:00                  넥센타이어 렌탈서비스  ...      4    3.0\n",
              "\n",
              "[932 rows x 34 columns]"
            ]
          },
          "metadata": {
            "tags": []
          },
          "execution_count": 4
        }
      ]
    },
    {
      "cell_type": "code",
      "metadata": {
        "id": "1mabvcwDuASC",
        "colab_type": "code",
        "colab": {
          "base_uri": "https://localhost:8080/",
          "height": 35
        },
        "outputId": "39295b5d-c02d-441c-99f9-6b496ccaca69"
      },
      "source": [
        "NS = NS.dropna()\n",
        "NS.shape"
      ],
      "execution_count": 5,
      "outputs": [
        {
          "output_type": "execute_result",
          "data": {
            "text/plain": [
              "(37362, 34)"
            ]
          },
          "metadata": {
            "tags": []
          },
          "execution_count": 5
        }
      ]
    },
    {
      "cell_type": "code",
      "metadata": {
        "id": "JZMRLQITuASF",
        "colab_type": "code",
        "colab": {
          "base_uri": "https://localhost:8080/",
          "height": 287
        },
        "outputId": "fd46914e-efea-4204-b370-7ca05f79d954"
      },
      "source": [
        "# 필요없는 변수 제거 / 더미화\n",
        "NS2 = NS.drop(['p_code','m_code','date','hms', 'org_time', 'product','sale_m','ymd'],axis=1) \n",
        "NS2 = pd.get_dummies(NS2, columns=['month','day','wday','hour','cloud','order','max_order','before','add', 'first', 'second', 'third'])\n",
        "NS2.head()"
      ],
      "execution_count": 6,
      "outputs": [
        {
          "output_type": "execute_result",
          "data": {
            "text/html": [
              "<div>\n",
              "<style scoped>\n",
              "    .dataframe tbody tr th:only-of-type {\n",
              "        vertical-align: middle;\n",
              "    }\n",
              "\n",
              "    .dataframe tbody tr th {\n",
              "        vertical-align: top;\n",
              "    }\n",
              "\n",
              "    .dataframe thead th {\n",
              "        text-align: right;\n",
              "    }\n",
              "</style>\n",
              "<table border=\"1\" class=\"dataframe\">\n",
              "  <thead>\n",
              "    <tr style=\"text-align: right;\">\n",
              "      <th></th>\n",
              "      <th>rain</th>\n",
              "      <th>temp</th>\n",
              "      <th>primetime</th>\n",
              "      <th>FlowSubway</th>\n",
              "      <th>FlowCar</th>\n",
              "      <th>duration</th>\n",
              "      <th>category</th>\n",
              "      <th>price</th>\n",
              "      <th>total</th>\n",
              "      <th>Y</th>\n",
              "      <th>holiday</th>\n",
              "      <th>stop</th>\n",
              "      <th>CPI</th>\n",
              "      <th>Shop_Online</th>\n",
              "      <th>month_1</th>\n",
              "      <th>month_2</th>\n",
              "      <th>month_3</th>\n",
              "      <th>month_4</th>\n",
              "      <th>month_5</th>\n",
              "      <th>month_6</th>\n",
              "      <th>month_7</th>\n",
              "      <th>month_8</th>\n",
              "      <th>month_9</th>\n",
              "      <th>month_10</th>\n",
              "      <th>month_11</th>\n",
              "      <th>month_12</th>\n",
              "      <th>day_1</th>\n",
              "      <th>day_2</th>\n",
              "      <th>day_3</th>\n",
              "      <th>day_4</th>\n",
              "      <th>day_5</th>\n",
              "      <th>day_6</th>\n",
              "      <th>day_7</th>\n",
              "      <th>day_8</th>\n",
              "      <th>day_9</th>\n",
              "      <th>day_10</th>\n",
              "      <th>day_11</th>\n",
              "      <th>day_12</th>\n",
              "      <th>day_13</th>\n",
              "      <th>day_14</th>\n",
              "      <th>...</th>\n",
              "      <th>add_청소</th>\n",
              "      <th>add_청소기</th>\n",
              "      <th>add_침구</th>\n",
              "      <th>add_침대</th>\n",
              "      <th>add_카페트</th>\n",
              "      <th>add_커튼</th>\n",
              "      <th>add_케어</th>\n",
              "      <th>add_팬</th>\n",
              "      <th>add_포트</th>\n",
              "      <th>add_해산물</th>\n",
              "      <th>add_헤어</th>\n",
              "      <th>first_0</th>\n",
              "      <th>first_1</th>\n",
              "      <th>first_2</th>\n",
              "      <th>first_3</th>\n",
              "      <th>first_4</th>\n",
              "      <th>first_5</th>\n",
              "      <th>first_6</th>\n",
              "      <th>first_7</th>\n",
              "      <th>first_8</th>\n",
              "      <th>second_0</th>\n",
              "      <th>second_1</th>\n",
              "      <th>second_2</th>\n",
              "      <th>second_3</th>\n",
              "      <th>second_4</th>\n",
              "      <th>second_5</th>\n",
              "      <th>second_6</th>\n",
              "      <th>second_7</th>\n",
              "      <th>second_8</th>\n",
              "      <th>second_9</th>\n",
              "      <th>third_0.0</th>\n",
              "      <th>third_1.0</th>\n",
              "      <th>third_2.0</th>\n",
              "      <th>third_3.0</th>\n",
              "      <th>third_4.0</th>\n",
              "      <th>third_5.0</th>\n",
              "      <th>third_6.0</th>\n",
              "      <th>third_7.0</th>\n",
              "      <th>third_8.0</th>\n",
              "      <th>third_9.0</th>\n",
              "    </tr>\n",
              "  </thead>\n",
              "  <tbody>\n",
              "    <tr>\n",
              "      <th>0</th>\n",
              "      <td>0.1</td>\n",
              "      <td>-1.681818</td>\n",
              "      <td>0</td>\n",
              "      <td>115735</td>\n",
              "      <td>152109</td>\n",
              "      <td>20.0</td>\n",
              "      <td>의류</td>\n",
              "      <td>39900.0</td>\n",
              "      <td>2099000.0</td>\n",
              "      <td>2.630326</td>\n",
              "      <td>1</td>\n",
              "      <td>0</td>\n",
              "      <td>104.02</td>\n",
              "      <td>1.0946</td>\n",
              "      <td>1</td>\n",
              "      <td>0</td>\n",
              "      <td>0</td>\n",
              "      <td>0</td>\n",
              "      <td>0</td>\n",
              "      <td>0</td>\n",
              "      <td>0</td>\n",
              "      <td>0</td>\n",
              "      <td>0</td>\n",
              "      <td>0</td>\n",
              "      <td>0</td>\n",
              "      <td>0</td>\n",
              "      <td>1</td>\n",
              "      <td>0</td>\n",
              "      <td>0</td>\n",
              "      <td>0</td>\n",
              "      <td>0</td>\n",
              "      <td>0</td>\n",
              "      <td>0</td>\n",
              "      <td>0</td>\n",
              "      <td>0</td>\n",
              "      <td>0</td>\n",
              "      <td>0</td>\n",
              "      <td>0</td>\n",
              "      <td>0</td>\n",
              "      <td>0</td>\n",
              "      <td>...</td>\n",
              "      <td>0</td>\n",
              "      <td>0</td>\n",
              "      <td>0</td>\n",
              "      <td>0</td>\n",
              "      <td>0</td>\n",
              "      <td>0</td>\n",
              "      <td>0</td>\n",
              "      <td>0</td>\n",
              "      <td>0</td>\n",
              "      <td>0</td>\n",
              "      <td>0</td>\n",
              "      <td>0</td>\n",
              "      <td>0</td>\n",
              "      <td>0</td>\n",
              "      <td>1</td>\n",
              "      <td>0</td>\n",
              "      <td>0</td>\n",
              "      <td>0</td>\n",
              "      <td>0</td>\n",
              "      <td>0</td>\n",
              "      <td>0</td>\n",
              "      <td>0</td>\n",
              "      <td>0</td>\n",
              "      <td>0</td>\n",
              "      <td>1</td>\n",
              "      <td>0</td>\n",
              "      <td>0</td>\n",
              "      <td>0</td>\n",
              "      <td>0</td>\n",
              "      <td>0</td>\n",
              "      <td>0</td>\n",
              "      <td>0</td>\n",
              "      <td>0</td>\n",
              "      <td>0</td>\n",
              "      <td>0</td>\n",
              "      <td>0</td>\n",
              "      <td>1</td>\n",
              "      <td>0</td>\n",
              "      <td>0</td>\n",
              "      <td>0</td>\n",
              "    </tr>\n",
              "    <tr>\n",
              "      <th>1</th>\n",
              "      <td>0.1</td>\n",
              "      <td>-1.681818</td>\n",
              "      <td>0</td>\n",
              "      <td>115735</td>\n",
              "      <td>152109</td>\n",
              "      <td>20.0</td>\n",
              "      <td>의류</td>\n",
              "      <td>39900.0</td>\n",
              "      <td>4371000.0</td>\n",
              "      <td>5.477444</td>\n",
              "      <td>1</td>\n",
              "      <td>0</td>\n",
              "      <td>104.02</td>\n",
              "      <td>1.0946</td>\n",
              "      <td>1</td>\n",
              "      <td>0</td>\n",
              "      <td>0</td>\n",
              "      <td>0</td>\n",
              "      <td>0</td>\n",
              "      <td>0</td>\n",
              "      <td>0</td>\n",
              "      <td>0</td>\n",
              "      <td>0</td>\n",
              "      <td>0</td>\n",
              "      <td>0</td>\n",
              "      <td>0</td>\n",
              "      <td>1</td>\n",
              "      <td>0</td>\n",
              "      <td>0</td>\n",
              "      <td>0</td>\n",
              "      <td>0</td>\n",
              "      <td>0</td>\n",
              "      <td>0</td>\n",
              "      <td>0</td>\n",
              "      <td>0</td>\n",
              "      <td>0</td>\n",
              "      <td>0</td>\n",
              "      <td>0</td>\n",
              "      <td>0</td>\n",
              "      <td>0</td>\n",
              "      <td>...</td>\n",
              "      <td>0</td>\n",
              "      <td>0</td>\n",
              "      <td>0</td>\n",
              "      <td>0</td>\n",
              "      <td>0</td>\n",
              "      <td>0</td>\n",
              "      <td>0</td>\n",
              "      <td>0</td>\n",
              "      <td>0</td>\n",
              "      <td>0</td>\n",
              "      <td>0</td>\n",
              "      <td>0</td>\n",
              "      <td>0</td>\n",
              "      <td>0</td>\n",
              "      <td>1</td>\n",
              "      <td>0</td>\n",
              "      <td>0</td>\n",
              "      <td>0</td>\n",
              "      <td>0</td>\n",
              "      <td>0</td>\n",
              "      <td>0</td>\n",
              "      <td>0</td>\n",
              "      <td>0</td>\n",
              "      <td>0</td>\n",
              "      <td>1</td>\n",
              "      <td>0</td>\n",
              "      <td>0</td>\n",
              "      <td>0</td>\n",
              "      <td>0</td>\n",
              "      <td>0</td>\n",
              "      <td>0</td>\n",
              "      <td>0</td>\n",
              "      <td>0</td>\n",
              "      <td>0</td>\n",
              "      <td>0</td>\n",
              "      <td>0</td>\n",
              "      <td>1</td>\n",
              "      <td>0</td>\n",
              "      <td>0</td>\n",
              "      <td>0</td>\n",
              "    </tr>\n",
              "    <tr>\n",
              "      <th>2</th>\n",
              "      <td>0.1</td>\n",
              "      <td>-1.681818</td>\n",
              "      <td>0</td>\n",
              "      <td>115735</td>\n",
              "      <td>152109</td>\n",
              "      <td>20.0</td>\n",
              "      <td>의류</td>\n",
              "      <td>39900.0</td>\n",
              "      <td>3262000.0</td>\n",
              "      <td>4.087719</td>\n",
              "      <td>1</td>\n",
              "      <td>0</td>\n",
              "      <td>104.02</td>\n",
              "      <td>1.0946</td>\n",
              "      <td>1</td>\n",
              "      <td>0</td>\n",
              "      <td>0</td>\n",
              "      <td>0</td>\n",
              "      <td>0</td>\n",
              "      <td>0</td>\n",
              "      <td>0</td>\n",
              "      <td>0</td>\n",
              "      <td>0</td>\n",
              "      <td>0</td>\n",
              "      <td>0</td>\n",
              "      <td>0</td>\n",
              "      <td>1</td>\n",
              "      <td>0</td>\n",
              "      <td>0</td>\n",
              "      <td>0</td>\n",
              "      <td>0</td>\n",
              "      <td>0</td>\n",
              "      <td>0</td>\n",
              "      <td>0</td>\n",
              "      <td>0</td>\n",
              "      <td>0</td>\n",
              "      <td>0</td>\n",
              "      <td>0</td>\n",
              "      <td>0</td>\n",
              "      <td>0</td>\n",
              "      <td>...</td>\n",
              "      <td>0</td>\n",
              "      <td>0</td>\n",
              "      <td>0</td>\n",
              "      <td>0</td>\n",
              "      <td>0</td>\n",
              "      <td>0</td>\n",
              "      <td>0</td>\n",
              "      <td>0</td>\n",
              "      <td>0</td>\n",
              "      <td>0</td>\n",
              "      <td>0</td>\n",
              "      <td>0</td>\n",
              "      <td>0</td>\n",
              "      <td>0</td>\n",
              "      <td>1</td>\n",
              "      <td>0</td>\n",
              "      <td>0</td>\n",
              "      <td>0</td>\n",
              "      <td>0</td>\n",
              "      <td>0</td>\n",
              "      <td>0</td>\n",
              "      <td>0</td>\n",
              "      <td>0</td>\n",
              "      <td>0</td>\n",
              "      <td>1</td>\n",
              "      <td>0</td>\n",
              "      <td>0</td>\n",
              "      <td>0</td>\n",
              "      <td>0</td>\n",
              "      <td>0</td>\n",
              "      <td>0</td>\n",
              "      <td>0</td>\n",
              "      <td>0</td>\n",
              "      <td>0</td>\n",
              "      <td>0</td>\n",
              "      <td>0</td>\n",
              "      <td>1</td>\n",
              "      <td>0</td>\n",
              "      <td>0</td>\n",
              "      <td>0</td>\n",
              "    </tr>\n",
              "    <tr>\n",
              "      <th>3</th>\n",
              "      <td>0.1</td>\n",
              "      <td>-1.681818</td>\n",
              "      <td>0</td>\n",
              "      <td>115735</td>\n",
              "      <td>152109</td>\n",
              "      <td>20.0</td>\n",
              "      <td>의류</td>\n",
              "      <td>39900.0</td>\n",
              "      <td>6955000.0</td>\n",
              "      <td>8.715539</td>\n",
              "      <td>1</td>\n",
              "      <td>0</td>\n",
              "      <td>104.02</td>\n",
              "      <td>1.0946</td>\n",
              "      <td>1</td>\n",
              "      <td>0</td>\n",
              "      <td>0</td>\n",
              "      <td>0</td>\n",
              "      <td>0</td>\n",
              "      <td>0</td>\n",
              "      <td>0</td>\n",
              "      <td>0</td>\n",
              "      <td>0</td>\n",
              "      <td>0</td>\n",
              "      <td>0</td>\n",
              "      <td>0</td>\n",
              "      <td>1</td>\n",
              "      <td>0</td>\n",
              "      <td>0</td>\n",
              "      <td>0</td>\n",
              "      <td>0</td>\n",
              "      <td>0</td>\n",
              "      <td>0</td>\n",
              "      <td>0</td>\n",
              "      <td>0</td>\n",
              "      <td>0</td>\n",
              "      <td>0</td>\n",
              "      <td>0</td>\n",
              "      <td>0</td>\n",
              "      <td>0</td>\n",
              "      <td>...</td>\n",
              "      <td>0</td>\n",
              "      <td>0</td>\n",
              "      <td>0</td>\n",
              "      <td>0</td>\n",
              "      <td>0</td>\n",
              "      <td>0</td>\n",
              "      <td>0</td>\n",
              "      <td>0</td>\n",
              "      <td>0</td>\n",
              "      <td>0</td>\n",
              "      <td>0</td>\n",
              "      <td>0</td>\n",
              "      <td>0</td>\n",
              "      <td>0</td>\n",
              "      <td>1</td>\n",
              "      <td>0</td>\n",
              "      <td>0</td>\n",
              "      <td>0</td>\n",
              "      <td>0</td>\n",
              "      <td>0</td>\n",
              "      <td>0</td>\n",
              "      <td>0</td>\n",
              "      <td>0</td>\n",
              "      <td>0</td>\n",
              "      <td>1</td>\n",
              "      <td>0</td>\n",
              "      <td>0</td>\n",
              "      <td>0</td>\n",
              "      <td>0</td>\n",
              "      <td>0</td>\n",
              "      <td>0</td>\n",
              "      <td>0</td>\n",
              "      <td>0</td>\n",
              "      <td>0</td>\n",
              "      <td>0</td>\n",
              "      <td>0</td>\n",
              "      <td>1</td>\n",
              "      <td>0</td>\n",
              "      <td>0</td>\n",
              "      <td>0</td>\n",
              "    </tr>\n",
              "    <tr>\n",
              "      <th>4</th>\n",
              "      <td>0.1</td>\n",
              "      <td>-1.681818</td>\n",
              "      <td>0</td>\n",
              "      <td>115735</td>\n",
              "      <td>152109</td>\n",
              "      <td>20.0</td>\n",
              "      <td>의류</td>\n",
              "      <td>39900.0</td>\n",
              "      <td>6672000.0</td>\n",
              "      <td>8.360902</td>\n",
              "      <td>1</td>\n",
              "      <td>0</td>\n",
              "      <td>104.02</td>\n",
              "      <td>1.0946</td>\n",
              "      <td>1</td>\n",
              "      <td>0</td>\n",
              "      <td>0</td>\n",
              "      <td>0</td>\n",
              "      <td>0</td>\n",
              "      <td>0</td>\n",
              "      <td>0</td>\n",
              "      <td>0</td>\n",
              "      <td>0</td>\n",
              "      <td>0</td>\n",
              "      <td>0</td>\n",
              "      <td>0</td>\n",
              "      <td>1</td>\n",
              "      <td>0</td>\n",
              "      <td>0</td>\n",
              "      <td>0</td>\n",
              "      <td>0</td>\n",
              "      <td>0</td>\n",
              "      <td>0</td>\n",
              "      <td>0</td>\n",
              "      <td>0</td>\n",
              "      <td>0</td>\n",
              "      <td>0</td>\n",
              "      <td>0</td>\n",
              "      <td>0</td>\n",
              "      <td>0</td>\n",
              "      <td>...</td>\n",
              "      <td>0</td>\n",
              "      <td>0</td>\n",
              "      <td>0</td>\n",
              "      <td>0</td>\n",
              "      <td>0</td>\n",
              "      <td>0</td>\n",
              "      <td>0</td>\n",
              "      <td>0</td>\n",
              "      <td>0</td>\n",
              "      <td>0</td>\n",
              "      <td>0</td>\n",
              "      <td>0</td>\n",
              "      <td>0</td>\n",
              "      <td>0</td>\n",
              "      <td>1</td>\n",
              "      <td>0</td>\n",
              "      <td>0</td>\n",
              "      <td>0</td>\n",
              "      <td>0</td>\n",
              "      <td>0</td>\n",
              "      <td>0</td>\n",
              "      <td>0</td>\n",
              "      <td>0</td>\n",
              "      <td>0</td>\n",
              "      <td>1</td>\n",
              "      <td>0</td>\n",
              "      <td>0</td>\n",
              "      <td>0</td>\n",
              "      <td>0</td>\n",
              "      <td>0</td>\n",
              "      <td>0</td>\n",
              "      <td>0</td>\n",
              "      <td>0</td>\n",
              "      <td>0</td>\n",
              "      <td>0</td>\n",
              "      <td>0</td>\n",
              "      <td>1</td>\n",
              "      <td>0</td>\n",
              "      <td>0</td>\n",
              "      <td>0</td>\n",
              "    </tr>\n",
              "  </tbody>\n",
              "</table>\n",
              "<p>5 rows × 209 columns</p>\n",
              "</div>"
            ],
            "text/plain": [
              "   rain      temp  primetime  ...  third_7.0  third_8.0  third_9.0\n",
              "0   0.1 -1.681818          0  ...          0          0          0\n",
              "1   0.1 -1.681818          0  ...          0          0          0\n",
              "2   0.1 -1.681818          0  ...          0          0          0\n",
              "3   0.1 -1.681818          0  ...          0          0          0\n",
              "4   0.1 -1.681818          0  ...          0          0          0\n",
              "\n",
              "[5 rows x 209 columns]"
            ]
          },
          "metadata": {
            "tags": []
          },
          "execution_count": 6
        }
      ]
    },
    {
      "cell_type": "markdown",
      "metadata": {
        "id": "HAfCs7swuASH",
        "colab_type": "text"
      },
      "source": [
        "# 모델링 준비\n"
      ]
    },
    {
      "cell_type": "markdown",
      "metadata": {
        "id": "nThuhjqquASI",
        "colab_type": "text"
      },
      "source": [
        "## Split to train/test"
      ]
    },
    {
      "cell_type": "code",
      "metadata": {
        "id": "I7PwvqSUuASI",
        "colab_type": "code",
        "colab": {}
      },
      "source": [
        "from sklearn.model_selection import StratifiedShuffleSplit\n",
        "\n",
        "\n",
        "# class 나누기 전 우선 train, test-set으로 split\n",
        "# empty column 'class_' 추가 (-> target 변수 )\n",
        "NS2=NS2.assign(class_=\"\")\n",
        "\n",
        "grp = NS2['category']"
      ],
      "execution_count": 37,
      "outputs": []
    },
    {
      "cell_type": "code",
      "metadata": {
        "id": "CTyuaaY3uASL",
        "colab_type": "code",
        "colab": {}
      },
      "source": [
        "# train : test = 0.75 : 0.25 (category stratified)\n",
        "splitt = StratifiedShuffleSplit(n_splits=1, test_size=0.25, random_state=2020)"
      ],
      "execution_count": 8,
      "outputs": []
    },
    {
      "cell_type": "code",
      "metadata": {
        "id": "6Er9_1-QuASN",
        "colab_type": "code",
        "colab": {}
      },
      "source": [
        "for train_index, test_index in splitt.split(NS2, grp):\n",
        "    strat_train = NS2.iloc[train_index,]\n",
        "    strat_test = NS2.iloc[test_index,]"
      ],
      "execution_count": 9,
      "outputs": []
    },
    {
      "cell_type": "code",
      "metadata": {
        "id": "yWcGuVUQR8ko",
        "colab_type": "code",
        "colab": {}
      },
      "source": [
        "strat_train = NS2[(NS2['month_1']==1)|\n",
        "                  (NS2['month_2']==1)|\n",
        "                  (NS2['month_3']==1)|\n",
        "                  (NS2['month_4']==1)|\n",
        "                  (NS2['month_5']==1)|\n",
        "                  (NS2['month_6']==1)]\n",
        "\n",
        "strat_test = NS2[(NS2['month_12'] ==1)|\n",
        "                 (NS2['month_11'] ==1)]"
      ],
      "execution_count": 38,
      "outputs": []
    },
    {
      "cell_type": "code",
      "metadata": {
        "id": "lpBvj4PtuASP",
        "colab_type": "code",
        "colab": {}
      },
      "source": [
        "# 카테고리 더미화 \n",
        "strat_train = pd.get_dummies(strat_train, columns=['category'])\n",
        "strat_test = pd.get_dummies(strat_test,  columns=['category'])"
      ],
      "execution_count": 39,
      "outputs": []
    },
    {
      "cell_type": "markdown",
      "metadata": {
        "id": "UVpI7BAmNR4q",
        "colab_type": "text"
      },
      "source": [
        "## 1. Price"
      ]
    },
    {
      "cell_type": "code",
      "metadata": {
        "id": "4K0gy4rCNXsK",
        "colab_type": "code",
        "colab": {}
      },
      "source": [
        "q1=NS2['price'].quantile(q=0.25, interpolation='nearest')\n",
        "q3=NS2['price'].quantile(q=0.75, interpolation='nearest')"
      ],
      "execution_count": 40,
      "outputs": []
    },
    {
      "cell_type": "code",
      "metadata": {
        "scrolled": false,
        "id": "Y8ARKUjzuASV",
        "colab_type": "code",
        "colab": {
          "base_uri": "https://localhost:8080/",
          "height": 127
        },
        "outputId": "82ec2f2e-f099-4ae8-c29a-2235bbe5b870"
      },
      "source": [
        "# 위 quantile을 기준으로 train, test set 모두 class 1,2,3으로 분류 \n",
        "strat_train['class_'].loc[strat_train['price'] <q1]=1\n",
        "strat_train['class_'].loc[(strat_train['price']>=q1) & (strat_train['price'] <q3)]=2 \n",
        "strat_train['class_'].loc[strat_train['price']>=q3]=3\n",
        "\n",
        "strat_test['class_'].loc[strat_test['price'] <q1]=1\n",
        "strat_test['class_'].loc[(strat_test['price']>=q1) & (strat_test['price'] <q3)]=2 \n",
        "strat_test['class_'].loc[strat_test['price']>=q3]=3"
      ],
      "execution_count": 41,
      "outputs": [
        {
          "output_type": "stream",
          "text": [
            "/usr/local/lib/python3.6/dist-packages/pandas/core/indexing.py:671: SettingWithCopyWarning: \n",
            "A value is trying to be set on a copy of a slice from a DataFrame\n",
            "\n",
            "See the caveats in the documentation: https://pandas.pydata.org/pandas-docs/stable/user_guide/indexing.html#returning-a-view-versus-a-copy\n",
            "  self._setitem_with_indexer(indexer, value)\n"
          ],
          "name": "stderr"
        }
      ]
    },
    {
      "cell_type": "code",
      "metadata": {
        "id": "CuR1ps6zO-xZ",
        "colab_type": "code",
        "colab": {}
      },
      "source": [
        "### Low / Middle / High"
      ],
      "execution_count": 42,
      "outputs": []
    },
    {
      "cell_type": "code",
      "metadata": {
        "id": "H_lupsOCOB-F",
        "colab_type": "code",
        "colab": {
          "base_uri": "https://localhost:8080/",
          "height": 53
        },
        "outputId": "45281d5c-ad87-4e6f-aca1-90e91901c745"
      },
      "source": [
        "low_train = strat_train[strat_train['class_']==1]\n",
        "low_test = strat_test[strat_test['class_']==1]\n",
        "\n",
        "X_low_train = low_train[low_train.columns.difference(['class_','total','Y'])]\n",
        "y_low_train = low_train['Y']\n",
        "X_low_test = low_test[low_test.columns.difference(['class_','total','Y'])]\n",
        "y_low_test = low_test['Y']\n",
        "\n",
        "print(X_low_train.shape, y_low_train.shape)\n",
        "print(X_low_test.shape, y_low_test.shape)"
      ],
      "execution_count": 43,
      "outputs": [
        {
          "output_type": "stream",
          "text": [
            "(3555, 217) (3555,)\n",
            "(1291, 217) (1291,)\n"
          ],
          "name": "stdout"
        }
      ]
    },
    {
      "cell_type": "code",
      "metadata": {
        "id": "MxogPJ3tOYkS",
        "colab_type": "code",
        "colab": {
          "base_uri": "https://localhost:8080/",
          "height": 89
        },
        "outputId": "e840b2bb-d1bc-4c04-bb00-ba1cd43e7ebd"
      },
      "source": [
        "idx1 = y_low_train[np.log(y_low_train) < -100].index\n",
        "y_low_train1 = np.log(y_low_train.drop(idx1))\n",
        "X_low_train1 = X_low_train.drop(idx1)\n",
        "\n",
        "idx2 = y_low_test[np.log(y_low_test) < -100].index\n",
        "y_low_test1 = np.log(y_low_test.drop(idx2))\n",
        "X_low_test1 = X_low_test.drop(idx2)\n",
        "\n",
        "print(X_low_train1.shape, y_low_train1.shape)\n",
        "print(X_low_test1.shape, y_low_test1.shape)"
      ],
      "execution_count": 44,
      "outputs": [
        {
          "output_type": "stream",
          "text": [
            "(3555, 217) (3555,)\n",
            "(1289, 217) (1289,)\n"
          ],
          "name": "stdout"
        },
        {
          "output_type": "stream",
          "text": [
            "/usr/local/lib/python3.6/dist-packages/pandas/core/series.py:679: RuntimeWarning: divide by zero encountered in log\n",
            "  result = getattr(ufunc, method)(*inputs, **kwargs)\n"
          ],
          "name": "stderr"
        }
      ]
    },
    {
      "cell_type": "code",
      "metadata": {
        "id": "pMvB00pmO5Ho",
        "colab_type": "code",
        "colab": {
          "base_uri": "https://localhost:8080/",
          "height": 53
        },
        "outputId": "18324658-77c7-4ecf-c08b-761a1bd9674c"
      },
      "source": [
        "middle_train = strat_train[strat_train['class_']==2]\n",
        "\n",
        "\n",
        "middle_test = strat_test[strat_test['class_']==2]\n",
        "\n",
        "X_middle_train = middle_train[middle_train.columns.difference(['class_','total','Y'])]\n",
        "y_middle_train = middle_train['Y']\n",
        "X_middle_test = middle_test[middle_test.columns.difference(['class_','total','Y'])]\n",
        "y_middle_test = middle_test['Y']\n",
        "\n",
        "print(X_middle_train.shape, y_middle_train.shape)\n",
        "print(X_middle_test.shape, y_middle_test.shape)"
      ],
      "execution_count": 45,
      "outputs": [
        {
          "output_type": "stream",
          "text": [
            "(10021, 217) (10021,)\n",
            "(3515, 217) (3515,)\n"
          ],
          "name": "stdout"
        }
      ]
    },
    {
      "cell_type": "code",
      "metadata": {
        "id": "zg0QGr-9OcOE",
        "colab_type": "code",
        "colab": {
          "base_uri": "https://localhost:8080/",
          "height": 89
        },
        "outputId": "57f2ad2a-de00-4539-ac04-eca5461810cc"
      },
      "source": [
        "idx1 = y_middle_train[np.log(y_middle_train) < -100].index\n",
        "y_middle_train1 = np.log(y_middle_train.drop(idx1))\n",
        "X_middle_train1 = X_middle_train.drop(idx1)\n",
        "\n",
        "idx2 = y_middle_test[np.log(y_middle_test) < -100].index\n",
        "y_middle_test1 = np.log(y_middle_test.drop(idx2))\n",
        "X_middle_test1 = X_middle_test.drop(idx2)\n",
        "\n",
        "print(X_middle_train1.shape, y_middle_train1.shape)\n",
        "print(X_middle_test1.shape, y_middle_test1.shape)"
      ],
      "execution_count": 46,
      "outputs": [
        {
          "output_type": "stream",
          "text": [
            "(9934, 217) (9934,)\n",
            "(3492, 217) (3492,)\n"
          ],
          "name": "stdout"
        },
        {
          "output_type": "stream",
          "text": [
            "/usr/local/lib/python3.6/dist-packages/pandas/core/series.py:679: RuntimeWarning: divide by zero encountered in log\n",
            "  result = getattr(ufunc, method)(*inputs, **kwargs)\n"
          ],
          "name": "stderr"
        }
      ]
    },
    {
      "cell_type": "code",
      "metadata": {
        "id": "zNNNLEKjPsv8",
        "colab_type": "code",
        "colab": {
          "base_uri": "https://localhost:8080/",
          "height": 53
        },
        "outputId": "6bccacdc-f2aa-4c54-a0d1-fe38dd54d7d1"
      },
      "source": [
        "high_train = strat_train[strat_train['class_']==3]\n",
        "high_test = strat_test[strat_test['class_']==3]\n",
        "\n",
        "X_high_train = high_train[high_train.columns.difference(['class_','total','Y'])]\n",
        "y_high_train = high_train['Y']\n",
        "X_high_test = high_test[high_test.columns.difference(['class_','total','Y'])]\n",
        "y_high_test = high_test['Y']\n",
        "\n",
        "print(X_high_train.shape, y_high_train.shape)\n",
        "print(X_high_test.shape, y_high_test.shape)"
      ],
      "execution_count": 47,
      "outputs": [
        {
          "output_type": "stream",
          "text": [
            "(5351, 217) (5351,)\n",
            "(954, 217) (954,)\n"
          ],
          "name": "stdout"
        }
      ]
    },
    {
      "cell_type": "code",
      "metadata": {
        "id": "Z3CjNUYLP6vG",
        "colab_type": "code",
        "colab": {
          "base_uri": "https://localhost:8080/",
          "height": 89
        },
        "outputId": "6d22f926-dc75-4c5f-e905-c57cedcb6202"
      },
      "source": [
        "idx1 = y_high_train[np.log(y_high_train) < -100].index\n",
        "y_high_train1 = np.log(y_high_train.drop(idx1))\n",
        "X_high_train1 = X_high_train.drop(idx1)\n",
        "\n",
        "idx2 = y_high_test[np.log(y_high_test) < -100].index\n",
        "y_high_test1 = np.log(y_high_test.drop(idx2))\n",
        "X_high_test1 = X_high_test.drop(idx2)\n",
        "\n",
        "print(X_high_train1.shape, y_high_train1.shape)\n",
        "print(X_high_test1.shape, y_high_test1.shape)"
      ],
      "execution_count": 48,
      "outputs": [
        {
          "output_type": "stream",
          "text": [
            "(4297, 217) (4297,)\n",
            "(821, 217) (821,)\n"
          ],
          "name": "stdout"
        },
        {
          "output_type": "stream",
          "text": [
            "/usr/local/lib/python3.6/dist-packages/pandas/core/series.py:679: RuntimeWarning: divide by zero encountered in log\n",
            "  result = getattr(ufunc, method)(*inputs, **kwargs)\n"
          ],
          "name": "stderr"
        }
      ]
    },
    {
      "cell_type": "markdown",
      "metadata": {
        "id": "QgvXbAfyQKLG",
        "colab_type": "text"
      },
      "source": [
        "# 모델링"
      ]
    },
    {
      "cell_type": "markdown",
      "metadata": {
        "id": "6iZX8zYVQYKi",
        "colab_type": "text"
      },
      "source": [
        "## parameter 최적화"
      ]
    },
    {
      "cell_type": "code",
      "metadata": {
        "id": "cd4KSMaZQfxV",
        "colab_type": "code",
        "colab": {
          "base_uri": "https://localhost:8080/",
          "height": 271
        },
        "outputId": "332064e5-0185-4706-eb80-9a5c3b48e36f"
      },
      "source": [
        "pip install bayesian-optimization"
      ],
      "execution_count": 20,
      "outputs": [
        {
          "output_type": "stream",
          "text": [
            "Collecting bayesian-optimization\n",
            "  Downloading https://files.pythonhosted.org/packages/bb/7a/fd8059a3881d3ab37ac8f72f56b73937a14e8bb14a9733e68cc8b17dbe3c/bayesian-optimization-1.2.0.tar.gz\n",
            "Requirement already satisfied: numpy>=1.9.0 in /usr/local/lib/python3.6/dist-packages (from bayesian-optimization) (1.18.5)\n",
            "Requirement already satisfied: scipy>=0.14.0 in /usr/local/lib/python3.6/dist-packages (from bayesian-optimization) (1.4.1)\n",
            "Requirement already satisfied: scikit-learn>=0.18.0 in /usr/local/lib/python3.6/dist-packages (from bayesian-optimization) (0.22.2.post1)\n",
            "Requirement already satisfied: joblib>=0.11 in /usr/local/lib/python3.6/dist-packages (from scikit-learn>=0.18.0->bayesian-optimization) (0.16.0)\n",
            "Building wheels for collected packages: bayesian-optimization\n",
            "  Building wheel for bayesian-optimization (setup.py) ... \u001b[?25l\u001b[?25hdone\n",
            "  Created wheel for bayesian-optimization: filename=bayesian_optimization-1.2.0-cp36-none-any.whl size=11685 sha256=c2330ad51587f67b61ce63af49d92a9f95332cc96c383926db13f3f6c94d4eae\n",
            "  Stored in directory: /root/.cache/pip/wheels/5a/56/ae/e0e3c1fc1954dc3ec712e2df547235ed072b448094d8f94aec\n",
            "Successfully built bayesian-optimization\n",
            "Installing collected packages: bayesian-optimization\n",
            "Successfully installed bayesian-optimization-1.2.0\n"
          ],
          "name": "stdout"
        }
      ]
    },
    {
      "cell_type": "code",
      "metadata": {
        "id": "UJEhT56cQgI8",
        "colab_type": "code",
        "colab": {}
      },
      "source": [
        "def mean_absolute_percentage_error(y_true, y_pred): \n",
        "    y_true, y_pred = np.array(y_true), np.array(y_pred)\n",
        "    return np.mean(np.abs((y_true - y_pred) / y_true)) * 100\n",
        "\n",
        "from sklearn.model_selection import cross_val_score as cvs, KFold\n",
        "from sklearn.model_selection import GridSearchCV\n",
        "\n",
        "from sklearn.metrics import mean_squared_error, make_scorer, r2_score\n",
        "\n",
        "import xgboost as xgb\n",
        "from bayes_opt import BayesianOptimization\n",
        "from sklearn.model_selection import cross_val_score\n"
      ],
      "execution_count": 21,
      "outputs": []
    },
    {
      "cell_type": "code",
      "metadata": {
        "id": "gzHKDQL7J4C9",
        "colab_type": "code",
        "colab": {}
      },
      "source": [
        "pbounds = {\n",
        "    'n_estimators': (300, 1000),\n",
        "    'max_depth': (4,8),\n",
        "    'subsample': (0.8, 0.9),  # Change for big datasets\n",
        "    'colsample_bytree': (0.6, 0.8),   # Change for datasets with lots of features\n",
        "    'gamma' : (10,20),\n",
        "    'min_child_weight' : (5,10),\n",
        "    'max_delta_step' : (0.03, 0.05)\n",
        "    }"
      ],
      "execution_count": 22,
      "outputs": []
    },
    {
      "cell_type": "code",
      "metadata": {
        "id": "RvjPgIJwJ4C_",
        "colab_type": "code",
        "colab": {}
      },
      "source": [
        "def xgboost_hyper_param1(n_estimators, max_depth, \n",
        "                        subsample, colsample_bytree, gamma, \n",
        "                         min_child_weight, max_delta_step):\n",
        "    \n",
        "    max_depth = int(max_depth)\n",
        "    n_estimators = int(n_estimators)\n",
        "    \n",
        "    clf = xgb.XGBRegressor(learning_rate=0.1, n_estimators=n_estimators,\n",
        "                     max_depth=max_depth, subsample= subsample,\n",
        "                     colsample_bytree=colsample_bytree, gamma = gamma,\n",
        "                     min_child_weight = min_child_weight, \n",
        "                     max_delta_step = max_delta_step, loss = \"mape\")\n",
        "    \n",
        "    \n",
        "    clf.fit(X_low_train1, y_low_train1)\n",
        "    \n",
        "    \n",
        "    y_pred = clf.predict(X_low_test1)\n",
        "\n",
        "    mape = mean_absolute_percentage_error(np.exp(y_low_test1), np.exp(y_pred))\n",
        "\n",
        "    return -mape\n",
        "\n",
        "optimizer1 = BayesianOptimization(\n",
        "    f=xgboost_hyper_param1,\n",
        "    pbounds=pbounds,\n",
        "    random_state=2019\n",
        ")"
      ],
      "execution_count": 23,
      "outputs": []
    },
    {
      "cell_type": "code",
      "metadata": {
        "id": "-VdzvfLvJ4DB",
        "colab_type": "code",
        "colab": {
          "base_uri": "https://localhost:8080/",
          "height": 559
        },
        "outputId": "311e2f3e-3588-440c-d76f-52c9ff05d77a"
      },
      "source": [
        "optimizer1.maximize(init_points=3, n_iter=10, acq='ei')"
      ],
      "execution_count": 24,
      "outputs": [
        {
          "output_type": "stream",
          "text": [
            "|   iter    |  target   | colsam... |   gamma   | max_de... | max_depth | min_ch... | n_esti... | subsample |\n",
            "-------------------------------------------------------------------------------------------------------------\n",
            "[13:15:43] WARNING: /workspace/src/objective/regression_obj.cu:152: reg:linear is now deprecated in favor of reg:squarederror.\n",
            "| \u001b[0m 1       \u001b[0m | \u001b[0m-84.57   \u001b[0m | \u001b[0m 0.7807  \u001b[0m | \u001b[0m 13.93   \u001b[0m | \u001b[0m 0.04248 \u001b[0m | \u001b[0m 6.552   \u001b[0m | \u001b[0m 9.402   \u001b[0m | \u001b[0m 509.4   \u001b[0m | \u001b[0m 0.8702  \u001b[0m |\n",
            "[13:15:57] WARNING: /workspace/src/objective/regression_obj.cu:152: reg:linear is now deprecated in favor of reg:squarederror.\n",
            "| \u001b[95m 2       \u001b[0m | \u001b[95m-82.52   \u001b[0m | \u001b[95m 0.7806  \u001b[0m | \u001b[95m 18.81   \u001b[0m | \u001b[95m 0.03811 \u001b[0m | \u001b[95m 5.81    \u001b[0m | \u001b[95m 6.335   \u001b[0m | \u001b[95m 414.0   \u001b[0m | \u001b[95m 0.8889  \u001b[0m |\n",
            "[13:16:06] WARNING: /workspace/src/objective/regression_obj.cu:152: reg:linear is now deprecated in favor of reg:squarederror.\n",
            "| \u001b[0m 3       \u001b[0m | \u001b[0m-94.42   \u001b[0m | \u001b[0m 0.6297  \u001b[0m | \u001b[0m 19.85   \u001b[0m | \u001b[0m 0.03065 \u001b[0m | \u001b[0m 6.061   \u001b[0m | \u001b[0m 6.006   \u001b[0m | \u001b[0m 920.2   \u001b[0m | \u001b[0m 0.8514  \u001b[0m |\n",
            "[13:16:31] WARNING: /workspace/src/objective/regression_obj.cu:152: reg:linear is now deprecated in favor of reg:squarederror.\n",
            "| \u001b[0m 4       \u001b[0m | \u001b[0m-82.65   \u001b[0m | \u001b[0m 0.7568  \u001b[0m | \u001b[0m 10.05   \u001b[0m | \u001b[0m 0.03923 \u001b[0m | \u001b[0m 4.263   \u001b[0m | \u001b[0m 8.894   \u001b[0m | \u001b[0m 396.1   \u001b[0m | \u001b[0m 0.809   \u001b[0m |\n",
            "[13:16:40] WARNING: /workspace/src/objective/regression_obj.cu:152: reg:linear is now deprecated in favor of reg:squarederror.\n",
            "| \u001b[0m 5       \u001b[0m | \u001b[0m-84.15   \u001b[0m | \u001b[0m 0.7276  \u001b[0m | \u001b[0m 10.08   \u001b[0m | \u001b[0m 0.03155 \u001b[0m | \u001b[0m 5.801   \u001b[0m | \u001b[0m 8.292   \u001b[0m | \u001b[0m 419.3   \u001b[0m | \u001b[0m 0.8855  \u001b[0m |\n",
            "[13:16:49] WARNING: /workspace/src/objective/regression_obj.cu:152: reg:linear is now deprecated in favor of reg:squarederror.\n",
            "| \u001b[95m 6       \u001b[0m | \u001b[95m-82.22   \u001b[0m | \u001b[95m 0.6418  \u001b[0m | \u001b[95m 18.22   \u001b[0m | \u001b[95m 0.04605 \u001b[0m | \u001b[95m 5.379   \u001b[0m | \u001b[95m 6.996   \u001b[0m | \u001b[95m 414.1   \u001b[0m | \u001b[95m 0.8795  \u001b[0m |\n",
            "[13:16:58] WARNING: /workspace/src/objective/regression_obj.cu:152: reg:linear is now deprecated in favor of reg:squarederror.\n",
            "| \u001b[0m 7       \u001b[0m | \u001b[0m-84.02   \u001b[0m | \u001b[0m 0.7706  \u001b[0m | \u001b[0m 16.02   \u001b[0m | \u001b[0m 0.03239 \u001b[0m | \u001b[0m 4.213   \u001b[0m | \u001b[0m 7.943   \u001b[0m | \u001b[0m 414.2   \u001b[0m | \u001b[0m 0.8779  \u001b[0m |\n",
            "[13:17:07] WARNING: /workspace/src/objective/regression_obj.cu:152: reg:linear is now deprecated in favor of reg:squarederror.\n",
            "| \u001b[95m 8       \u001b[0m | \u001b[95m-81.97   \u001b[0m | \u001b[95m 0.6454  \u001b[0m | \u001b[95m 18.41   \u001b[0m | \u001b[95m 0.04304 \u001b[0m | \u001b[95m 4.618   \u001b[0m | \u001b[95m 6.443   \u001b[0m | \u001b[95m 414.9   \u001b[0m | \u001b[95m 0.8324  \u001b[0m |\n",
            "[13:17:16] WARNING: /workspace/src/objective/regression_obj.cu:152: reg:linear is now deprecated in favor of reg:squarederror.\n",
            "| \u001b[0m 9       \u001b[0m | \u001b[0m-82.97   \u001b[0m | \u001b[0m 0.6007  \u001b[0m | \u001b[0m 19.52   \u001b[0m | \u001b[0m 0.04899 \u001b[0m | \u001b[0m 4.465   \u001b[0m | \u001b[0m 7.688   \u001b[0m | \u001b[0m 414.3   \u001b[0m | \u001b[0m 0.8051  \u001b[0m |\n",
            "[13:17:26] WARNING: /workspace/src/objective/regression_obj.cu:152: reg:linear is now deprecated in favor of reg:squarederror.\n",
            "| \u001b[0m 10      \u001b[0m | \u001b[0m-81.97   \u001b[0m | \u001b[0m 0.7733  \u001b[0m | \u001b[0m 17.73   \u001b[0m | \u001b[0m 0.0432  \u001b[0m | \u001b[0m 5.116   \u001b[0m | \u001b[0m 5.567   \u001b[0m | \u001b[0m 414.4   \u001b[0m | \u001b[0m 0.8996  \u001b[0m |\n",
            "[13:17:37] WARNING: /workspace/src/objective/regression_obj.cu:152: reg:linear is now deprecated in favor of reg:squarederror.\n",
            "| \u001b[0m 11      \u001b[0m | \u001b[0m-83.43   \u001b[0m | \u001b[0m 0.6     \u001b[0m | \u001b[0m 17.89   \u001b[0m | \u001b[0m 0.05    \u001b[0m | \u001b[0m 5.205   \u001b[0m | \u001b[0m 6.077   \u001b[0m | \u001b[0m 415.1   \u001b[0m | \u001b[0m 0.9     \u001b[0m |\n",
            "[13:17:46] WARNING: /workspace/src/objective/regression_obj.cu:152: reg:linear is now deprecated in favor of reg:squarederror.\n",
            "| \u001b[0m 12      \u001b[0m | \u001b[0m-82.63   \u001b[0m | \u001b[0m 0.7226  \u001b[0m | \u001b[0m 18.15   \u001b[0m | \u001b[0m 0.03769 \u001b[0m | \u001b[0m 4.891   \u001b[0m | \u001b[0m 7.326   \u001b[0m | \u001b[0m 413.5   \u001b[0m | \u001b[0m 0.8059  \u001b[0m |\n",
            "[13:17:55] WARNING: /workspace/src/objective/regression_obj.cu:152: reg:linear is now deprecated in favor of reg:squarederror.\n",
            "| \u001b[0m 13      \u001b[0m | \u001b[0m-83.14   \u001b[0m | \u001b[0m 0.7621  \u001b[0m | \u001b[0m 17.65   \u001b[0m | \u001b[0m 0.03561 \u001b[0m | \u001b[0m 4.821   \u001b[0m | \u001b[0m 6.852   \u001b[0m | \u001b[0m 413.3   \u001b[0m | \u001b[0m 0.8435  \u001b[0m |\n",
            "=============================================================================================================\n"
          ],
          "name": "stdout"
        }
      ]
    },
    {
      "cell_type": "markdown",
      "metadata": {
        "id": "EdRVHGueuASb",
        "colab_type": "text"
      },
      "source": [
        "-------------------------------------------------"
      ]
    },
    {
      "cell_type": "code",
      "metadata": {
        "colab_type": "code",
        "id": "Jy6pa9dZvLbg",
        "colab": {}
      },
      "source": [
        "params =  optimizer1.max['params']"
      ],
      "execution_count": 25,
      "outputs": []
    },
    {
      "cell_type": "code",
      "metadata": {
        "id": "1hTDs0BYvPWJ",
        "colab_type": "code",
        "colab": {
          "base_uri": "https://localhost:8080/",
          "height": 143
        },
        "outputId": "c9212ceb-e2e4-4119-b5cf-1950c136c67c"
      },
      "source": [
        "params"
      ],
      "execution_count": 26,
      "outputs": [
        {
          "output_type": "execute_result",
          "data": {
            "text/plain": [
              "{'colsample_bytree': 0.6454175455289219,\n",
              " 'gamma': 18.409677803570855,\n",
              " 'max_delta_step': 0.04303726490888071,\n",
              " 'max_depth': 4.617692257409294,\n",
              " 'min_child_weight': 6.443164778967342,\n",
              " 'n_estimators': 414.8932200208266,\n",
              " 'subsample': 0.8323985024387449}"
            ]
          },
          "metadata": {
            "tags": []
          },
          "execution_count": 26
        }
      ]
    },
    {
      "cell_type": "markdown",
      "metadata": {
        "id": "DSFuvjOr4NUb",
        "colab_type": "text"
      },
      "source": [
        "low \n",
        "\n",
        "lr = 0.06\n",
        "\n",
        "{'colsample_bytree': 0.7311606460276696,\n",
        " 'max_depth': 5.373284727735124,\n",
        " 'n_estimators': 796.6858550926795,\n",
        " 'subsample': 0.8872870506359695}\n",
        "\n",
        " 16.358771094818714\n",
        "30.330715418012666\n",
        "\n"
      ]
    },
    {
      "cell_type": "code",
      "metadata": {
        "colab_type": "code",
        "id": "3AsHXIlYvLbj",
        "colab": {
          "base_uri": "https://localhost:8080/",
          "height": 199
        },
        "outputId": "da6c7e22-a19b-45fd-cfeb-720ca2e70927"
      },
      "source": [
        "xgb_clf1 = xgb.XGBRegressor(colsample_bytree=0.73,\n",
        "                            learning_rate=0.1, \n",
        "                            max_depth=6,\n",
        "                            n_estimators=414,\n",
        "                            subsample= 0.83,\n",
        "                            min_child_weight = 6.44,\n",
        "                            max_delta_step = 0.04,\n",
        "                            gamma = 18,\n",
        "                            loss = \"mape\"   ,random_state=2020 )\n",
        "\n",
        "xgb_clf2 = xgb.XGBRegressor(colsample_bytree=0.73,\n",
        "                            learning_rate=0.06, \n",
        "                            max_depth=5,\n",
        "                            n_estimators=796,\n",
        "                            subsample= 0.88,\n",
        "                            loss = \"mape\"   ,random_state=2020 )\n",
        "\n",
        "\n",
        "xgb_clf1.fit(X_low_train1, y_low_train1)\n",
        "xgb_clf2.fit(X_low_train1, y_low_train1)"
      ],
      "execution_count": 86,
      "outputs": [
        {
          "output_type": "stream",
          "text": [
            "[14:14:32] WARNING: /workspace/src/objective/regression_obj.cu:152: reg:linear is now deprecated in favor of reg:squarederror.\n",
            "[14:14:37] WARNING: /workspace/src/objective/regression_obj.cu:152: reg:linear is now deprecated in favor of reg:squarederror.\n"
          ],
          "name": "stdout"
        },
        {
          "output_type": "execute_result",
          "data": {
            "text/plain": [
              "XGBRegressor(base_score=0.5, booster='gbtree', colsample_bylevel=1,\n",
              "             colsample_bynode=1, colsample_bytree=0.73, gamma=0,\n",
              "             importance_type='gain', learning_rate=0.06, loss='mape',\n",
              "             max_delta_step=0, max_depth=5, min_child_weight=1, missing=None,\n",
              "             n_estimators=796, n_jobs=1, nthread=None, objective='reg:linear',\n",
              "             random_state=2020, reg_alpha=0, reg_lambda=1, scale_pos_weight=1,\n",
              "             seed=None, silent=None, subsample=0.88, verbosity=1)"
            ]
          },
          "metadata": {
            "tags": []
          },
          "execution_count": 86
        }
      ]
    },
    {
      "cell_type": "code",
      "metadata": {
        "id": "fJe8OnG9Z70w",
        "colab_type": "code",
        "colab": {}
      },
      "source": [
        "from sklearn.linear_model import LinearRegression\n",
        "from sklearn.ensemble import StackingRegressor\n",
        "from sklearn.model_selection import RepeatedKFold"
      ],
      "execution_count": 79,
      "outputs": []
    },
    {
      "cell_type": "code",
      "metadata": {
        "id": "as72ZltFb5Gu",
        "colab_type": "code",
        "colab": {
          "base_uri": "https://localhost:8080/",
          "height": 1000
        },
        "outputId": "695fceb0-a139-40ff-9dc0-7d964f45fab9"
      },
      "source": [
        "level0 = list()\n",
        "level0.append(('XGB1', xgb.XGBRegressor(colsample_bytree=0.73,\n",
        "                            learning_rate=0.1, \n",
        "                            max_depth=6,\n",
        "                            n_estimators=414,\n",
        "                            subsample= 0.83,\n",
        "                            min_child_weight = 6.44,\n",
        "                            max_delta_step = 0.04,\n",
        "                            gamma = 18,\n",
        "                            loss = \"mape\"   ,random_state=2020 )))\n",
        "\n",
        "level0.append(('XGB2', xgb.XGBRegressor(colsample_bytree=0.73,\n",
        "                            learning_rate=0.1, \n",
        "                            max_depth=6,\n",
        "                            n_estimators=414,\n",
        "                            subsample= 0.83,\n",
        "                            min_child_weight = 6.44,\n",
        "                            max_delta_step = 0.04,\n",
        "                            gamma = 18,\n",
        "                            loss = \"mape\"   ,random_state=2020 )))\n",
        "\n",
        "level0.append(('XGB3', xgb.XGBRegressor(colsample_bytree=0.73,\n",
        "                            learning_rate=0.1, \n",
        "                            max_depth=6,\n",
        "                            n_estimators=414,\n",
        "                            subsample= 0.83,\n",
        "                            min_child_weight = 6.44,\n",
        "                            max_delta_step = 0.04,\n",
        "                            gamma = 18,\n",
        "                            loss = \"mape\"   ,random_state=2020 )))\n",
        "\n",
        "level0.append(('XGB4', xgb.XGBRegressor(colsample_bytree=0.73,\n",
        "                            learning_rate=0.1, \n",
        "                            max_depth=6,\n",
        "                            n_estimators=414,\n",
        "                            subsample= 0.83,\n",
        "                            min_child_weight = 6.44,\n",
        "                            max_delta_step = 0.04,\n",
        "                            gamma = 18,\n",
        "                            loss = \"mape\"   ,random_state=2020 )))\n",
        "\n",
        "level0.append(('XGB5', xgb.XGBRegressor(colsample_bytree=0.73,\n",
        "                            learning_rate=0.06, \n",
        "                            max_depth=5,\n",
        "                            n_estimators=796,\n",
        "                            subsample= 0.88,\n",
        "                            loss = \"mape\"   ,random_state=2020 )))\n",
        "# define meta learner model\n",
        "level1 = LinearRegression()\n",
        "# define the stacking ensemble\n",
        "model = StackingRegressor(estimators=level0, final_estimator=level1, cv=5)\n",
        "\n",
        "model.fit(X_low_train1,y_low_train1)"
      ],
      "execution_count": 93,
      "outputs": [
        {
          "output_type": "stream",
          "text": [
            "[14:19:15] WARNING: /workspace/src/objective/regression_obj.cu:152: reg:linear is now deprecated in favor of reg:squarederror.\n",
            "[14:19:19] WARNING: /workspace/src/objective/regression_obj.cu:152: reg:linear is now deprecated in favor of reg:squarederror.\n",
            "[14:19:24] WARNING: /workspace/src/objective/regression_obj.cu:152: reg:linear is now deprecated in favor of reg:squarederror.\n",
            "[14:19:29] WARNING: /workspace/src/objective/regression_obj.cu:152: reg:linear is now deprecated in favor of reg:squarederror.\n",
            "[14:19:33] WARNING: /workspace/src/objective/regression_obj.cu:152: reg:linear is now deprecated in favor of reg:squarederror.\n",
            "[14:19:50] WARNING: /workspace/src/objective/regression_obj.cu:152: reg:linear is now deprecated in favor of reg:squarederror.\n",
            "[14:19:53] WARNING: /workspace/src/objective/regression_obj.cu:152: reg:linear is now deprecated in favor of reg:squarederror.\n",
            "[14:19:57] WARNING: /workspace/src/objective/regression_obj.cu:152: reg:linear is now deprecated in favor of reg:squarederror.\n",
            "[14:20:00] WARNING: /workspace/src/objective/regression_obj.cu:152: reg:linear is now deprecated in favor of reg:squarederror.\n",
            "[14:20:04] WARNING: /workspace/src/objective/regression_obj.cu:152: reg:linear is now deprecated in favor of reg:squarederror.\n",
            "[14:20:08] WARNING: /workspace/src/objective/regression_obj.cu:152: reg:linear is now deprecated in favor of reg:squarederror.\n",
            "[14:20:11] WARNING: /workspace/src/objective/regression_obj.cu:152: reg:linear is now deprecated in favor of reg:squarederror.\n",
            "[14:20:14] WARNING: /workspace/src/objective/regression_obj.cu:152: reg:linear is now deprecated in favor of reg:squarederror.\n",
            "[14:20:18] WARNING: /workspace/src/objective/regression_obj.cu:152: reg:linear is now deprecated in favor of reg:squarederror.\n",
            "[14:20:21] WARNING: /workspace/src/objective/regression_obj.cu:152: reg:linear is now deprecated in favor of reg:squarederror.\n",
            "[14:20:25] WARNING: /workspace/src/objective/regression_obj.cu:152: reg:linear is now deprecated in favor of reg:squarederror.\n",
            "[14:20:28] WARNING: /workspace/src/objective/regression_obj.cu:152: reg:linear is now deprecated in favor of reg:squarederror.\n",
            "[14:20:31] WARNING: /workspace/src/objective/regression_obj.cu:152: reg:linear is now deprecated in favor of reg:squarederror.\n",
            "[14:20:35] WARNING: /workspace/src/objective/regression_obj.cu:152: reg:linear is now deprecated in favor of reg:squarederror.\n",
            "[14:20:38] WARNING: /workspace/src/objective/regression_obj.cu:152: reg:linear is now deprecated in favor of reg:squarederror.\n",
            "[14:20:42] WARNING: /workspace/src/objective/regression_obj.cu:152: reg:linear is now deprecated in favor of reg:squarederror.\n",
            "[14:20:45] WARNING: /workspace/src/objective/regression_obj.cu:152: reg:linear is now deprecated in favor of reg:squarederror.\n",
            "[14:20:48] WARNING: /workspace/src/objective/regression_obj.cu:152: reg:linear is now deprecated in favor of reg:squarederror.\n",
            "[14:20:52] WARNING: /workspace/src/objective/regression_obj.cu:152: reg:linear is now deprecated in favor of reg:squarederror.\n",
            "[14:20:55] WARNING: /workspace/src/objective/regression_obj.cu:152: reg:linear is now deprecated in favor of reg:squarederror.\n",
            "[14:20:59] WARNING: /workspace/src/objective/regression_obj.cu:152: reg:linear is now deprecated in favor of reg:squarederror.\n",
            "[14:21:13] WARNING: /workspace/src/objective/regression_obj.cu:152: reg:linear is now deprecated in favor of reg:squarederror.\n",
            "[14:21:26] WARNING: /workspace/src/objective/regression_obj.cu:152: reg:linear is now deprecated in favor of reg:squarederror.\n",
            "[14:21:40] WARNING: /workspace/src/objective/regression_obj.cu:152: reg:linear is now deprecated in favor of reg:squarederror.\n",
            "[14:21:53] WARNING: /workspace/src/objective/regression_obj.cu:152: reg:linear is now deprecated in favor of reg:squarederror.\n"
          ],
          "name": "stdout"
        },
        {
          "output_type": "execute_result",
          "data": {
            "text/plain": [
              "StackingRegressor(cv=5,\n",
              "                  estimators=[('XGB1',\n",
              "                               XGBRegressor(base_score=0.5, booster='gbtree',\n",
              "                                            colsample_bylevel=1,\n",
              "                                            colsample_bynode=1,\n",
              "                                            colsample_bytree=0.73, gamma=18,\n",
              "                                            importance_type='gain',\n",
              "                                            learning_rate=0.1, loss='mape',\n",
              "                                            max_delta_step=0.04, max_depth=6,\n",
              "                                            min_child_weight=6.44, missing=None,\n",
              "                                            n_estimators=414, n_jobs=1,\n",
              "                                            nthread=None,\n",
              "                                            objective='reg:linear',\n",
              "                                            random_sta...\n",
              "                                            max_delta_step=0, max_depth=5,\n",
              "                                            min_child_weight=1, missing=None,\n",
              "                                            n_estimators=796, n_jobs=1,\n",
              "                                            nthread=None,\n",
              "                                            objective='reg:linear',\n",
              "                                            random_state=2020, reg_alpha=0,\n",
              "                                            reg_lambda=1, scale_pos_weight=1,\n",
              "                                            seed=None, silent=None,\n",
              "                                            subsample=0.88, verbosity=1))],\n",
              "                  final_estimator=LinearRegression(copy_X=True,\n",
              "                                                   fit_intercept=True,\n",
              "                                                   n_jobs=None,\n",
              "                                                   normalize=False),\n",
              "                  n_jobs=None, passthrough=False, verbose=0)"
            ]
          },
          "metadata": {
            "tags": []
          },
          "execution_count": 93
        }
      ]
    },
    {
      "cell_type": "code",
      "metadata": {
        "id": "qI-lnonqcYAk",
        "colab_type": "code",
        "colab": {
          "base_uri": "https://localhost:8080/",
          "height": 53
        },
        "outputId": "cae85fc8-cea1-4535-8e17-6de430b9f510"
      },
      "source": [
        "low_pred_train = model.predict(X_low_train1)\n",
        "low_pred_test = model.predict(X_low_test1)\n",
        "\n",
        "print(mean_absolute_percentage_error(np.exp(y_low_train1), np.exp(low_pred_train)))\n",
        "print(mean_absolute_percentage_error(np.exp(y_low_test1), np.exp(low_pred_test)))"
      ],
      "execution_count": 94,
      "outputs": [
        {
          "output_type": "stream",
          "text": [
            "13.136098637169837\n",
            "114.98685191795292\n"
          ],
          "name": "stdout"
        }
      ]
    },
    {
      "cell_type": "code",
      "metadata": {
        "id": "P5jFfR-fWLDF",
        "colab_type": "code",
        "colab": {
          "base_uri": "https://localhost:8080/",
          "height": 89
        },
        "outputId": "3d8b7880-7ccc-403e-dcf4-23172c3878f7"
      },
      "source": [
        "low_pred_train = xgb_clf1.predict(X_low_train1)\n",
        "low_pred_test = xgb_clf1.predict(X_low_test1)\n",
        "\n",
        "print(mean_absolute_percentage_error(np.exp(y_low_train1), np.exp(low_pred_train)))\n",
        "print(mean_absolute_percentage_error(np.exp(y_low_test1), np.exp(low_pred_test)))\n",
        "\n",
        "low_pred_train2 = xgb_clf2.predict(X_low_train1)\n",
        "low_pred_test2 = xgb_clf2.predict(X_low_test1)\n",
        "\n",
        "print(mean_absolute_percentage_error(np.exp(y_low_train1), np.exp(low_pred_train2)))\n",
        "print(mean_absolute_percentage_error(np.exp(y_low_test1), np.exp(low_pred_test2)))"
      ],
      "execution_count": 87,
      "outputs": [
        {
          "output_type": "stream",
          "text": [
            "76.28821262482558\n",
            "94.91852891087188\n",
            "13.107401992518186\n",
            "116.06309167799569\n"
          ],
          "name": "stdout"
        }
      ]
    },
    {
      "cell_type": "markdown",
      "metadata": {
        "id": "jacJwyT14Ung",
        "colab_type": "text"
      },
      "source": [
        "lr = 0.06\n",
        "\n",
        "{'colsample_bytree': 0.9862708473909292,\n",
        " 'max_depth': 6.586455338406134,\n",
        " 'n_estimators': 709.1631951535353,\n",
        " 'subsample': 0.953981818429076}\n",
        "\n",
        " 29.908990450346217\n",
        "43.72936402331216"
      ]
    },
    {
      "cell_type": "code",
      "metadata": {
        "colab_type": "code",
        "id": "eYEL03l9_Wub",
        "colab": {
          "base_uri": "https://localhost:8080/",
          "height": 199
        },
        "outputId": "2906a0ef-c411-4436-9684-3abd6b494ea5"
      },
      "source": [
        "xgb_clf2 = xgb.XGBRegressor(colsample_bytree=0.73,\n",
        "                            learning_rate=0.1, \n",
        "                            max_depth=6,\n",
        "                            n_estimators=414,\n",
        "                            subsample= 0.83,\n",
        "                            min_child_weight = 6.44,\n",
        "                            max_delta_step = 0.04,\n",
        "                            gamma = 18,\n",
        "                            loss = \"mape\"   ,random_state=2020 )\n",
        "\n",
        "\n",
        "xgb_clf2.fit(X_middle_train1, y_middle_train1)"
      ],
      "execution_count": 51,
      "outputs": [
        {
          "output_type": "stream",
          "text": [
            "[13:23:49] WARNING: /workspace/src/objective/regression_obj.cu:152: reg:linear is now deprecated in favor of reg:squarederror.\n"
          ],
          "name": "stdout"
        },
        {
          "output_type": "execute_result",
          "data": {
            "text/plain": [
              "XGBRegressor(base_score=0.5, booster='gbtree', colsample_bylevel=1,\n",
              "             colsample_bynode=1, colsample_bytree=0.73, gamma=18,\n",
              "             importance_type='gain', learning_rate=0.1, loss='mape',\n",
              "             max_delta_step=0.04, max_depth=6, min_child_weight=6.44,\n",
              "             missing=None, n_estimators=414, n_jobs=1, nthread=None,\n",
              "             objective='reg:linear', random_state=2020, reg_alpha=0,\n",
              "             reg_lambda=1, scale_pos_weight=1, seed=None, silent=None,\n",
              "             subsample=0.83, verbosity=1)"
            ]
          },
          "metadata": {
            "tags": []
          },
          "execution_count": 51
        }
      ]
    },
    {
      "cell_type": "code",
      "metadata": {
        "colab_type": "code",
        "id": "xXk04qcZ_Wuk",
        "colab": {
          "base_uri": "https://localhost:8080/",
          "height": 53
        },
        "outputId": "a5c0d9b2-5692-43c1-f035-1dd2cb8003dd"
      },
      "source": [
        "middle_pred_train = xgb_clf2.predict(X_middle_train1)\n",
        "middle_pred_test = xgb_clf2.predict(X_middle_test1)\n",
        "\n",
        "print(mean_absolute_percentage_error(np.exp(y_middle_train1), np.exp(middle_pred_train)))\n",
        "print(mean_absolute_percentage_error(np.exp(y_middle_test1), np.exp(middle_pred_test)))"
      ],
      "execution_count": 52,
      "outputs": [
        {
          "output_type": "stream",
          "text": [
            "95.99736195607026\n",
            "94.4151294743057\n"
          ],
          "name": "stdout"
        }
      ]
    },
    {
      "cell_type": "markdown",
      "metadata": {
        "id": "oheXH99y6SDb",
        "colab_type": "text"
      },
      "source": [
        "lr = 0.04\n",
        "\n",
        "{'colsample_bytree': 0.8042412547305258,\n",
        " 'max_depth': 5.231524958506885,\n",
        " 'n_estimators': 1078.913324661913,\n",
        " 'subsample': 0.9106219081730786}\n",
        "\n",
        " 32.32104426057097\n",
        "53.49181413330286"
      ]
    },
    {
      "cell_type": "code",
      "metadata": {
        "colab_type": "code",
        "id": "1boDtWiQ_wBm",
        "colab": {
          "base_uri": "https://localhost:8080/",
          "height": 199
        },
        "outputId": "e49881e4-6215-4e09-f06c-7a3a016544a4"
      },
      "source": [
        "xgb_clf3 = xgb.XGBRegressor(colsample_bytree=0.73,\n",
        "                            learning_rate=0.1, \n",
        "                            max_depth=6,\n",
        "                            n_estimators=414,\n",
        "                            subsample= 0.83,\n",
        "                            min_child_weight = 6.44,\n",
        "                            max_delta_step = 0.04,\n",
        "                            gamma = 18,\n",
        "                            loss = \"mape\"   ,random_state=2020 )\n",
        "\n",
        "\n",
        "xgb_clf3.fit(X_high_train1, y_high_train1)"
      ],
      "execution_count": 53,
      "outputs": [
        {
          "output_type": "stream",
          "text": [
            "[13:24:19] WARNING: /workspace/src/objective/regression_obj.cu:152: reg:linear is now deprecated in favor of reg:squarederror.\n"
          ],
          "name": "stdout"
        },
        {
          "output_type": "execute_result",
          "data": {
            "text/plain": [
              "XGBRegressor(base_score=0.5, booster='gbtree', colsample_bylevel=1,\n",
              "             colsample_bynode=1, colsample_bytree=0.73, gamma=18,\n",
              "             importance_type='gain', learning_rate=0.1, loss='mape',\n",
              "             max_delta_step=0.04, max_depth=6, min_child_weight=6.44,\n",
              "             missing=None, n_estimators=414, n_jobs=1, nthread=None,\n",
              "             objective='reg:linear', random_state=2020, reg_alpha=0,\n",
              "             reg_lambda=1, scale_pos_weight=1, seed=None, silent=None,\n",
              "             subsample=0.83, verbosity=1)"
            ]
          },
          "metadata": {
            "tags": []
          },
          "execution_count": 53
        }
      ]
    },
    {
      "cell_type": "code",
      "metadata": {
        "colab_type": "code",
        "id": "7YfhJBVZ_wBu",
        "colab": {
          "base_uri": "https://localhost:8080/",
          "height": 53
        },
        "outputId": "235fa4fd-6f5a-4869-91b3-703561423f39"
      },
      "source": [
        "high_pred_train = xgb_clf3.predict(X_high_train1)\n",
        "high_pred_test = xgb_clf3.predict(X_high_test1)\n",
        "\n",
        "print(mean_absolute_percentage_error(np.exp(y_high_train1), np.exp(high_pred_train)))\n",
        "print(mean_absolute_percentage_error(np.exp(y_high_test1), np.exp(high_pred_test)))"
      ],
      "execution_count": 54,
      "outputs": [
        {
          "output_type": "stream",
          "text": [
            "79.90618333293808\n",
            "92.53729201809347\n"
          ],
          "name": "stdout"
        }
      ]
    },
    {
      "cell_type": "code",
      "metadata": {
        "id": "SqeBH4J20Nh9",
        "colab_type": "code",
        "colab": {}
      },
      "source": [
        "from pandas import Series"
      ],
      "execution_count": 55,
      "outputs": []
    },
    {
      "cell_type": "code",
      "metadata": {
        "id": "XA3o6lpRzEeR",
        "colab_type": "code",
        "colab": {}
      },
      "source": [
        "index1 = y_low_test1.index\n",
        "y_pred_1 = Series(low_pred_test, index= index1, name = 'Y_hat')\n",
        "\n",
        "index2 = y_middle_test1.index\n",
        "y_pred_2 = Series(middle_pred_test, index= index2, name = 'Y_hat')\n",
        "\n",
        "index3 = y_high_test1.index\n",
        "y_pred_3 = Series(high_pred_test, index= index3, name = 'Y_hat')"
      ],
      "execution_count": 56,
      "outputs": []
    },
    {
      "cell_type": "code",
      "metadata": {
        "id": "Bqsf7ZzB0SLA",
        "colab_type": "code",
        "colab": {}
      },
      "source": [
        "Y1 = pd.concat([y_low_test1, y_pred_1], axis =1)\n",
        "Y2 = pd.concat([y_middle_test1, y_pred_2], axis =1)\n",
        "Y3 = pd.concat([y_high_test1, y_pred_3], axis =1)"
      ],
      "execution_count": 57,
      "outputs": []
    },
    {
      "cell_type": "code",
      "metadata": {
        "id": "3oO-Hh_R0elh",
        "colab_type": "code",
        "colab": {
          "base_uri": "https://localhost:8080/",
          "height": 35
        },
        "outputId": "6f130845-cfec-404a-bfc7-0a672d63e4de"
      },
      "source": [
        "Y_df = pd.concat([Y1,Y2,Y3])\n",
        "\n",
        "mean_absolute_percentage_error(np.exp(Y_df['Y']), np.exp(Y_df['Y_hat']))"
      ],
      "execution_count": 58,
      "outputs": [
        {
          "output_type": "execute_result",
          "data": {
            "text/plain": [
              "94.25575377316032"
            ]
          },
          "metadata": {
            "tags": []
          },
          "execution_count": 58
        }
      ]
    },
    {
      "cell_type": "code",
      "metadata": {
        "id": "4rZyxxwGf1Ad",
        "colab_type": "code",
        "colab": {}
      },
      "source": [
        ""
      ],
      "execution_count": null,
      "outputs": []
    }
  ]
}